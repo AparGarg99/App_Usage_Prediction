{
 "cells": [
  {
   "cell_type": "markdown",
   "metadata": {},
   "source": [
    "# Import Libraries"
   ]
  },
  {
   "cell_type": "code",
   "execution_count": 1,
   "metadata": {},
   "outputs": [],
   "source": [
    "import pandas as pd\n",
    "import numpy as np\n",
    "import warnings\n",
    "warnings.filterwarnings('ignore')"
   ]
  },
  {
   "cell_type": "code",
   "execution_count": 3,
   "metadata": {
    "colab": {
     "base_uri": "https://localhost:8080/",
     "height": 606
    },
    "id": "eEpkNAjbeeQ1",
    "outputId": "af76ddb6-3c92-4507-d42b-9697f92ed2dc"
   },
   "outputs": [
    {
     "name": "stdout",
     "output_type": "stream",
     "text": [
      "2021-05-17 16:15:35,002 featuretools - WARNING    Featuretools failed to load plugin nlp_primitives from library nlp_primitives. For a full stack trace, set logging to debug.\n"
     ]
    }
   ],
   "source": [
    "import evalml"
   ]
  },
  {
   "cell_type": "code",
   "execution_count": 4,
   "metadata": {},
   "outputs": [],
   "source": [
    "from evalml.data_checks import DefaultDataChecks\n",
    "from evalml.automl import AutoMLSearch"
   ]
  },
  {
   "cell_type": "markdown",
   "metadata": {},
   "source": [
    "# Read Datasets"
   ]
  },
  {
   "cell_type": "code",
   "execution_count": 5,
   "metadata": {},
   "outputs": [
    {
     "data": {
      "text/html": [
       "<table border=\"1\" class=\"dataframe\">\n",
       "  <thead>\n",
       "    <tr style=\"text-align: right;\">\n",
       "      <th></th>\n",
       "      <th>Physical Type</th>\n",
       "      <th>Logical Type</th>\n",
       "      <th>Semantic Tag(s)</th>\n",
       "    </tr>\n",
       "    <tr>\n",
       "      <th>Data Column</th>\n",
       "      <th></th>\n",
       "      <th></th>\n",
       "      <th></th>\n",
       "    </tr>\n",
       "  </thead>\n",
       "  <tbody>\n",
       "    <tr>\n",
       "      <th>gender</th>\n",
       "      <td>category</td>\n",
       "      <td>Categorical</td>\n",
       "      <td>['category']</td>\n",
       "    </tr>\n",
       "    <tr>\n",
       "      <th>age</th>\n",
       "      <td>Int64</td>\n",
       "      <td>Integer</td>\n",
       "      <td>['numeric']</td>\n",
       "    </tr>\n",
       "    <tr>\n",
       "      <th>number_of_kids</th>\n",
       "      <td>Int64</td>\n",
       "      <td>Integer</td>\n",
       "      <td>['numeric']</td>\n",
       "    </tr>\n",
       "    <tr>\n",
       "      <th>day</th>\n",
       "      <td>Int64</td>\n",
       "      <td>Integer</td>\n",
       "      <td>['numeric']</td>\n",
       "    </tr>\n",
       "  </tbody>\n",
       "</table>"
      ],
      "text/plain": [
       "               Physical Type Logical Type Semantic Tag(s)\n",
       "Data Column                                              \n",
       "gender              category  Categorical    ['category']\n",
       "age                    Int64      Integer     ['numeric']\n",
       "number_of_kids         Int64      Integer     ['numeric']\n",
       "day                    Int64      Integer     ['numeric']"
      ]
     },
     "execution_count": 5,
     "metadata": {},
     "output_type": "execute_result"
    }
   ],
   "source": [
    "# Prepare training data\n",
    "# Dataframe to DataTable conversion to treat columns with the same physical data type differently\n",
    "df = pd.read_csv('train.csv').dropna()\n",
    "X = df.iloc[:,:-1]\n",
    "y = df.iloc[:,-1]\n",
    "X_train, temp1, y_train, temp2 = evalml.preprocessing.split_data(X, y, \n",
    "                                                                   problem_type='regression',\n",
    "                                                                   test_size=(1/df.shape[0])*100)\n",
    "X_train[list(df.columns)[:-1]]"
   ]
  },
  {
   "cell_type": "code",
   "execution_count": 7,
   "metadata": {},
   "outputs": [
    {
     "data": {
      "text/html": [
       "<table border=\"1\" class=\"dataframe\">\n",
       "  <thead>\n",
       "    <tr style=\"text-align: right;\">\n",
       "      <th></th>\n",
       "      <th>Physical Type</th>\n",
       "      <th>Logical Type</th>\n",
       "      <th>Semantic Tag(s)</th>\n",
       "    </tr>\n",
       "    <tr>\n",
       "      <th>Data Column</th>\n",
       "      <th></th>\n",
       "      <th></th>\n",
       "      <th></th>\n",
       "    </tr>\n",
       "  </thead>\n",
       "  <tbody>\n",
       "    <tr>\n",
       "      <th>gender</th>\n",
       "      <td>category</td>\n",
       "      <td>Categorical</td>\n",
       "      <td>['category']</td>\n",
       "    </tr>\n",
       "    <tr>\n",
       "      <th>age</th>\n",
       "      <td>Int64</td>\n",
       "      <td>Integer</td>\n",
       "      <td>['numeric']</td>\n",
       "    </tr>\n",
       "    <tr>\n",
       "      <th>number_of_kids</th>\n",
       "      <td>Int64</td>\n",
       "      <td>Integer</td>\n",
       "      <td>['numeric']</td>\n",
       "    </tr>\n",
       "    <tr>\n",
       "      <th>day</th>\n",
       "      <td>Int64</td>\n",
       "      <td>Integer</td>\n",
       "      <td>['numeric']</td>\n",
       "    </tr>\n",
       "  </tbody>\n",
       "</table>"
      ],
      "text/plain": [
       "               Physical Type Logical Type Semantic Tag(s)\n",
       "Data Column                                              \n",
       "gender              category  Categorical    ['category']\n",
       "age                    Int64      Integer     ['numeric']\n",
       "number_of_kids         Int64      Integer     ['numeric']\n",
       "day                    Int64      Integer     ['numeric']"
      ]
     },
     "execution_count": 7,
     "metadata": {},
     "output_type": "execute_result"
    }
   ],
   "source": [
    "# Prepare testing data\n",
    "df2 = pd.read_csv('test.csv').dropna()\n",
    "X = df2.iloc[:,:-1]\n",
    "y = df2.iloc[:,-1]\n",
    "X_test, temp1, y_test, temp2 = evalml.preprocessing.split_data(X, y, \n",
    "                                                                   problem_type='regression',\n",
    "                                                                   test_size=(1/df2.shape[0])*100)\n",
    "X_test[list(df2.columns)[:-1]]"
   ]
  },
  {
   "cell_type": "markdown",
   "metadata": {},
   "source": [
    "# Training"
   ]
  },
  {
   "cell_type": "code",
   "execution_count": 6,
   "metadata": {
    "scrolled": true
   },
   "outputs": [
    {
     "data": {
      "text/plain": [
       "{'warnings': [], 'errors': [], 'actions': []}"
      ]
     },
     "execution_count": 6,
     "metadata": {},
     "output_type": "execute_result"
    }
   ],
   "source": [
    "data_checks = DefaultDataChecks(\"regression\", \"R2\")\n",
    "data_checks.validate(X_train, y_train)"
   ]
  },
  {
   "cell_type": "code",
   "execution_count": 7,
   "metadata": {
    "id": "YXUQUZGmf0pn",
    "scrolled": false
   },
   "outputs": [
    {
     "name": "stdout",
     "output_type": "stream",
     "text": [
      "Generating pipelines to search over...\n",
      "Ensembling will run every 9 batches.\n",
      "\n",
      "*****************************\n",
      "* Beginning pipeline search *\n",
      "*****************************\n",
      "\n",
      "Optimizing for Root Mean Squared Error. \n",
      "Lower score is better.\n",
      "\n",
      "Using SequentialEngine to train and score pipelines.\n",
      "Searching up to 10 batches for a total of 50 pipelines. \n",
      "Allowed model families: lightgbm, extra_trees, xgboost, linear_model, random_forest, decision_tree, catboost\n",
      "\n"
     ]
    },
    {
     "data": {
      "application/vnd.jupyter.widget-view+json": {
       "model_id": "618c541075b944cb88a9b85738a57b07",
       "version_major": 2,
       "version_minor": 0
      },
      "text/plain": [
       "FigureWidget({\n",
       "    'data': [{'mode': 'lines+markers',\n",
       "              'name': 'Best Score',\n",
       "              'type'…"
      ]
     },
     "metadata": {},
     "output_type": "display_data"
    },
    {
     "name": "stdout",
     "output_type": "stream",
     "text": [
      "Evaluating Baseline Pipeline: Mean Baseline Regression Pipeline\n",
      "Mean Baseline Regression Pipeline:\n",
      "\tStarting cross validation\n",
      "\tFinished cross validation - mean Root Mean Squared Error: 2.820\n",
      "\n",
      "*****************************\n",
      "* Evaluating Batch Number 1 *\n",
      "*****************************\n",
      "\n",
      "Linear Regressor w/ Imputer + One Hot Encoder + Standard Scaler:\n",
      "\tStarting cross validation\n",
      "\tFinished cross validation - mean Root Mean Squared Error: 2.578\n",
      "Decision Tree Regressor w/ Imputer + One Hot Encoder:\n",
      "\tStarting cross validation\n",
      "\tFinished cross validation - mean Root Mean Squared Error: 2.520\n",
      "Random Forest Regressor w/ Imputer + One Hot Encoder:\n",
      "\tStarting cross validation\n",
      "\tFinished cross validation - mean Root Mean Squared Error: 2.506\n",
      "LightGBM Regressor w/ Imputer + One Hot Encoder:\n",
      "\tStarting cross validation\n",
      "\tFinished cross validation - mean Root Mean Squared Error: 2.457\n",
      "Elastic Net Regressor w/ Imputer + One Hot Encoder + Standard Scaler:\n",
      "\tStarting cross validation\n",
      "\tFinished cross validation - mean Root Mean Squared Error: 2.643\n",
      "XGBoost Regressor w/ Imputer + One Hot Encoder:\n",
      "\tStarting cross validation\n",
      "\tFinished cross validation - mean Root Mean Squared Error: 2.421\n",
      "Extra Trees Regressor w/ Imputer + One Hot Encoder:\n",
      "\tStarting cross validation\n",
      "\tFinished cross validation - mean Root Mean Squared Error: 2.533\n",
      "CatBoost Regressor w/ Imputer:\n",
      "\tStarting cross validation\n",
      "\tFinished cross validation - mean Root Mean Squared Error: 2.705\n",
      "\n",
      "*****************************\n",
      "* Evaluating Batch Number 2 *\n",
      "*****************************\n",
      "\n",
      "XGBoost Regressor w/ Imputer + One Hot Encoder:\n",
      "\tStarting cross validation\n",
      "\tFinished cross validation - mean Root Mean Squared Error: 2.749\n",
      "XGBoost Regressor w/ Imputer + One Hot Encoder:\n",
      "\tStarting cross validation\n",
      "\tFinished cross validation - mean Root Mean Squared Error: 2.816\n",
      "XGBoost Regressor w/ Imputer + One Hot Encoder:\n",
      "\tStarting cross validation\n",
      "\tFinished cross validation - mean Root Mean Squared Error: 2.836\n",
      "XGBoost Regressor w/ Imputer + One Hot Encoder:\n",
      "\tStarting cross validation\n",
      "\tFinished cross validation - mean Root Mean Squared Error: 2.778\n",
      "XGBoost Regressor w/ Imputer + One Hot Encoder:\n",
      "\tStarting cross validation\n",
      "\tFinished cross validation - mean Root Mean Squared Error: 2.641\n",
      "\n",
      "*****************************\n",
      "* Evaluating Batch Number 3 *\n",
      "*****************************\n",
      "\n",
      "LightGBM Regressor w/ Imputer + One Hot Encoder:\n",
      "\tStarting cross validation\n",
      "\tFinished cross validation - mean Root Mean Squared Error: 2.529\n",
      "LightGBM Regressor w/ Imputer + One Hot Encoder:\n",
      "\tStarting cross validation\n",
      "\tFinished cross validation - mean Root Mean Squared Error: 2.564\n",
      "LightGBM Regressor w/ Imputer + One Hot Encoder:\n",
      "\tStarting cross validation\n",
      "\tFinished cross validation - mean Root Mean Squared Error: 2.556\n",
      "LightGBM Regressor w/ Imputer + One Hot Encoder:\n",
      "\tStarting cross validation\n",
      "\tFinished cross validation - mean Root Mean Squared Error: 2.512\n",
      "LightGBM Regressor w/ Imputer + One Hot Encoder:\n",
      "\tStarting cross validation\n",
      "\tFinished cross validation - mean Root Mean Squared Error: 2.439\n",
      "\n",
      "*****************************\n",
      "* Evaluating Batch Number 4 *\n",
      "*****************************\n",
      "\n",
      "Random Forest Regressor w/ Imputer + One Hot Encoder:\n",
      "\tStarting cross validation\n",
      "\tFinished cross validation - mean Root Mean Squared Error: 2.535\n",
      "Random Forest Regressor w/ Imputer + One Hot Encoder:\n",
      "\tStarting cross validation\n",
      "\tFinished cross validation - mean Root Mean Squared Error: 2.672\n",
      "Random Forest Regressor w/ Imputer + One Hot Encoder:\n",
      "\tStarting cross validation\n",
      "\tFinished cross validation - mean Root Mean Squared Error: 2.449\n",
      "Random Forest Regressor w/ Imputer + One Hot Encoder:\n",
      "\tStarting cross validation\n",
      "\tFinished cross validation - mean Root Mean Squared Error: 2.671\n",
      "Random Forest Regressor w/ Imputer + One Hot Encoder:\n",
      "\tStarting cross validation\n",
      "\tFinished cross validation - mean Root Mean Squared Error: 2.519\n",
      "\n",
      "*****************************\n",
      "* Evaluating Batch Number 5 *\n",
      "*****************************\n",
      "\n",
      "Decision Tree Regressor w/ Imputer + One Hot Encoder:\n",
      "\tStarting cross validation\n",
      "\tFinished cross validation - mean Root Mean Squared Error: 2.568\n",
      "Decision Tree Regressor w/ Imputer + One Hot Encoder:\n",
      "\tStarting cross validation\n",
      "\tFinished cross validation - mean Root Mean Squared Error: 2.552\n",
      "Decision Tree Regressor w/ Imputer + One Hot Encoder:\n",
      "\tStarting cross validation\n",
      "\tFinished cross validation - mean Root Mean Squared Error: 2.498\n",
      "Decision Tree Regressor w/ Imputer + One Hot Encoder:\n",
      "\tStarting cross validation\n",
      "\tFinished cross validation - mean Root Mean Squared Error: 2.495\n",
      "Decision Tree Regressor w/ Imputer + One Hot Encoder:\n",
      "\tStarting cross validation\n",
      "\tFinished cross validation - mean Root Mean Squared Error: 2.577\n",
      "\n",
      "*****************************\n",
      "* Evaluating Batch Number 6 *\n",
      "*****************************\n",
      "\n",
      "Extra Trees Regressor w/ Imputer + One Hot Encoder:\n",
      "\tStarting cross validation\n",
      "\tFinished cross validation - mean Root Mean Squared Error: 2.555\n",
      "Extra Trees Regressor w/ Imputer + One Hot Encoder:\n",
      "\tStarting cross validation\n",
      "\tFinished cross validation - mean Root Mean Squared Error: 2.569\n",
      "Extra Trees Regressor w/ Imputer + One Hot Encoder:\n",
      "\tStarting cross validation\n",
      "\tFinished cross validation - mean Root Mean Squared Error: 2.541\n",
      "Extra Trees Regressor w/ Imputer + One Hot Encoder:\n",
      "\tStarting cross validation\n",
      "\tFinished cross validation - mean Root Mean Squared Error: 2.516\n",
      "Extra Trees Regressor w/ Imputer + One Hot Encoder:\n",
      "\tStarting cross validation\n",
      "\tFinished cross validation - mean Root Mean Squared Error: 2.569\n",
      "\n",
      "*****************************\n",
      "* Evaluating Batch Number 7 *\n",
      "*****************************\n",
      "\n",
      "Linear Regressor w/ Imputer + One Hot Encoder + Standard Scaler:\n",
      "\tStarting cross validation\n",
      "\tFinished cross validation - mean Root Mean Squared Error: 6.188\n",
      "Linear Regressor w/ Imputer + One Hot Encoder + Standard Scaler:\n",
      "\tStarting cross validation\n",
      "\tFinished cross validation - mean Root Mean Squared Error: 6.188\n",
      "Linear Regressor w/ Imputer + One Hot Encoder + Standard Scaler:\n",
      "\tStarting cross validation\n",
      "\tFinished cross validation - mean Root Mean Squared Error: 2.578\n",
      "Linear Regressor w/ Imputer + One Hot Encoder + Standard Scaler:\n",
      "\tStarting cross validation\n",
      "\tFinished cross validation - mean Root Mean Squared Error: 2.578\n",
      "Linear Regressor w/ Imputer + One Hot Encoder + Standard Scaler:\n",
      "\tStarting cross validation\n",
      "\tFinished cross validation - mean Root Mean Squared Error: 2.578\n",
      "\n",
      "*****************************\n",
      "* Evaluating Batch Number 8 *\n",
      "*****************************\n",
      "\n",
      "Elastic Net Regressor w/ Imputer + One Hot Encoder + Standard Scaler:\n",
      "\tStarting cross validation\n",
      "\tFinished cross validation - mean Root Mean Squared Error: 2.732\n",
      "Elastic Net Regressor w/ Imputer + One Hot Encoder + Standard Scaler:\n",
      "\tStarting cross validation\n",
      "\tFinished cross validation - mean Root Mean Squared Error: 2.687\n",
      "Elastic Net Regressor w/ Imputer + One Hot Encoder + Standard Scaler:\n",
      "\tStarting cross validation\n",
      "\tFinished cross validation - mean Root Mean Squared Error: 2.590\n",
      "Elastic Net Regressor w/ Imputer + One Hot Encoder + Standard Scaler:\n",
      "\tStarting cross validation\n",
      "\tFinished cross validation - mean Root Mean Squared Error: 2.623\n",
      "Elastic Net Regressor w/ Imputer + One Hot Encoder + Standard Scaler:\n",
      "\tStarting cross validation\n",
      "\tFinished cross validation - mean Root Mean Squared Error: 2.594\n",
      "\n",
      "*****************************\n",
      "* Evaluating Batch Number 9 *\n",
      "*****************************\n",
      "\n",
      "CatBoost Regressor w/ Imputer:\n",
      "\tStarting cross validation\n",
      "\tFinished cross validation - mean Root Mean Squared Error: 2.435\n",
      "CatBoost Regressor w/ Imputer:\n",
      "\tStarting cross validation\n",
      "\tFinished cross validation - mean Root Mean Squared Error: 2.421\n",
      "CatBoost Regressor w/ Imputer:\n",
      "\tStarting cross validation\n",
      "\tFinished cross validation - mean Root Mean Squared Error: 2.428\n",
      "CatBoost Regressor w/ Imputer:\n",
      "\tStarting cross validation\n",
      "\tFinished cross validation - mean Root Mean Squared Error: 2.466\n",
      "CatBoost Regressor w/ Imputer:\n",
      "\tStarting cross validation\n",
      "\tFinished cross validation - mean Root Mean Squared Error: 2.466\n",
      "\n",
      "******************************\n",
      "* Evaluating Batch Number 10 *\n",
      "******************************\n",
      "\n",
      "Stacked Ensemble Regression Pipeline:\n",
      "\tStarting cross validation\n",
      "\tFinished cross validation - mean Root Mean Squared Error: 2.493\n"
     ]
    },
    {
     "name": "stdout",
     "output_type": "stream",
     "text": [
      "\n",
      "Search finished after 40:09            \n",
      "Best pipeline: CatBoost Regressor w/ Imputer\n",
      "Best pipeline Root Mean Squared Error: 2.420535\n"
     ]
    }
   ],
   "source": [
    "automl = AutoMLSearch(X_train = X_train, \n",
    "                      y_train = y_train, \n",
    "                      problem_type = 'regression',\n",
    "                      objective = \"root mean squared error\",\n",
    "                      optimize_thresholds = True,\n",
    "                      ensembling = True,\n",
    "                      max_batches = 10\n",
    "                 )\n",
    "automl.search()"
   ]
  },
  {
   "cell_type": "code",
   "execution_count": 8,
   "metadata": {},
   "outputs": [
    {
     "name": "stdout",
     "output_type": "stream",
     "text": [
      "\n",
      "*********************************\n",
      "* CatBoost Regressor w/ Imputer *\n",
      "*********************************\n",
      "\n",
      "Problem Type: regression\n",
      "Model Family: CatBoost\n",
      "\n",
      "Pipeline Steps\n",
      "==============\n",
      "1. Imputer\n",
      "\t * categorical_impute_strategy : most_frequent\n",
      "\t * numeric_impute_strategy : most_frequent\n",
      "\t * categorical_fill_value : None\n",
      "\t * numeric_fill_value : None\n",
      "2. CatBoost Regressor\n",
      "\t * n_estimators : 91\n",
      "\t * eta : 0.47997769239788496\n",
      "\t * max_depth : 5\n",
      "\t * bootstrap_type : None\n",
      "\t * silent : False\n",
      "\t * allow_writing_files : False\n",
      "\n",
      "Training\n",
      "========\n",
      "Training for regression problems.\n",
      "Total training time (including CV): 1.4 seconds\n",
      "\n",
      "Cross Validation\n",
      "----------------\n",
      "             Root Mean Squared Error  ExpVariance  MaxError  MedianAE   MSE   MAE    R2 # Training # Validation\n",
      "0                              2.427        0.264     9.065     1.754 5.892 1.987 0.264     22,024       11,013\n",
      "1                              2.409        0.264     9.207     1.743 5.805 1.964 0.263     22,025       11,012\n",
      "2                              2.425        0.261     8.324     1.758 5.880 1.982 0.261     22,025       11,012\n",
      "mean                           2.421        0.263     8.866     1.752 5.859 1.978 0.263          -            -\n",
      "std                            0.010        0.002     0.474     0.008 0.047 0.012 0.002          -            -\n",
      "coef of var                    0.004        0.006     0.053     0.005 0.008 0.006 0.006          -            -\n"
     ]
    }
   ],
   "source": [
    "automl.describe_pipeline(automl.rankings.iloc[0][\"id\"])"
   ]
  },
  {
   "cell_type": "markdown",
   "metadata": {},
   "source": [
    "# Testing"
   ]
  },
  {
   "cell_type": "code",
   "execution_count": 9,
   "metadata": {},
   "outputs": [],
   "source": [
    "pipeline = automl.best_pipeline"
   ]
  },
  {
   "cell_type": "code",
   "execution_count": 10,
   "metadata": {},
   "outputs": [
    {
     "data": {
      "text/plain": [
       "OrderedDict([('Root Mean Squared Error', 4.525456587506269)])"
      ]
     },
     "execution_count": 10,
     "metadata": {},
     "output_type": "execute_result"
    }
   ],
   "source": [
    "pipeline.score(X_test, y_test, objectives=[\"root mean squared error\"])"
   ]
  }
 ],
 "metadata": {
  "colab": {
   "name": "Untitled11.ipynb",
   "provenance": []
  },
  "kernelspec": {
   "display_name": "Python 3",
   "language": "python",
   "name": "python3"
  },
  "language_info": {
   "codemirror_mode": {
    "name": "ipython",
    "version": 3
   },
   "file_extension": ".py",
   "mimetype": "text/x-python",
   "name": "python",
   "nbconvert_exporter": "python",
   "pygments_lexer": "ipython3",
   "version": "3.7.4"
  }
 },
 "nbformat": 4,
 "nbformat_minor": 1
}
